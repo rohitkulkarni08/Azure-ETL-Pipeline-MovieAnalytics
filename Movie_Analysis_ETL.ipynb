{
 "cells": [
  {
   "cell_type": "code",
   "execution_count": 0,
   "metadata": {
    "application/vnd.databricks.v1+cell": {
     "cellMetadata": {
      "byteLimit": 2048000,
      "rowLimit": 10000
     },
     "inputWidgets": {},
     "nuid": "5369fb44-7d6b-48eb-8afe-31ac5d07a3bf",
     "showTitle": false,
     "title": ""
    }
   },
   "outputs": [
    {
     "output_type": "display_data",
     "data": {
      "text/html": [
       "<style scoped>\n",
       "  .ansiout {\n",
       "    display: block;\n",
       "    unicode-bidi: embed;\n",
       "    white-space: pre-wrap;\n",
       "    word-wrap: break-word;\n",
       "    word-break: break-all;\n",
       "    font-family: \"Menlo\", \"Monaco\", \"Consolas\", \"Ubuntu Mono\", \"Source Code Pro\", monospace;\n",
       "    font-size: 13px;\n",
       "    color: #555;\n",
       "    margin-left: 4px;\n",
       "    line-height: 19px;\n",
       "  }\n",
       "</style>\n",
       "<div class=\"ansiout\">Python interpreter will be restarted.\n",
       "Collecting azure\n",
       "  Using cached azure-5.0.0.zip (4.6 kB)\n",
       "    ERROR: Command errored out with exit status 1:\n",
       "     command: /local_disk0/.ephemeral_nfs/envs/pythonEnv-ce066890-3ab2-40cc-8c72-2a315c4de7d0/bin/python -c &#39;import sys, setuptools, tokenize; sys.argv[0] = &#39;&#34;&#39;&#34;&#39;/tmp/pip-install-909z36xw/azure_b4b738b250a4446b9a1dbd349da95285/setup.py&#39;&#34;&#39;&#34;&#39;; __file__=&#39;&#34;&#39;&#34;&#39;/tmp/pip-install-909z36xw/azure_b4b738b250a4446b9a1dbd349da95285/setup.py&#39;&#34;&#39;&#34;&#39;;f=getattr(tokenize, &#39;&#34;&#39;&#34;&#39;open&#39;&#34;&#39;&#34;&#39;, open)(__file__);code=f.read().replace(&#39;&#34;&#39;&#34;&#39;\\r\\n&#39;&#34;&#39;&#34;&#39;, &#39;&#34;&#39;&#34;&#39;\\n&#39;&#34;&#39;&#34;&#39;);f.close();exec(compile(code, __file__, &#39;&#34;&#39;&#34;&#39;exec&#39;&#34;&#39;&#34;&#39;))&#39; egg_info --egg-base /tmp/pip-pip-egg-info-8yc5ubd4\n",
       "         cwd: /tmp/pip-install-909z36xw/azure_b4b738b250a4446b9a1dbd349da95285/\n",
       "    Complete output (24 lines):\n",
       "    Traceback (most recent call last):\n",
       "      File &#34;&lt;string&gt;&#34;, line 1, in &lt;module&gt;\n",
       "      File &#34;/tmp/pip-install-909z36xw/azure_b4b738b250a4446b9a1dbd349da95285/setup.py&#34;, line 60, in &lt;module&gt;\n",
       "        raise RuntimeError(message)\n",
       "    RuntimeError:\n",
       "    \n",
       "    Starting with v5.0.0, the &#39;azure&#39; meta-package is deprecated and cannot be installed anymore.\n",
       "    Please install the service specific packages prefixed by `azure` needed for your application.\n",
       "    \n",
       "    The complete list of available packages can be found at:\n",
       "    https://aka.ms/azsdk/python/all\n",
       "    \n",
       "    Here&#39;s a non-exhaustive list of common packages:\n",
       "    \n",
       "    -  azure-mgmt-compute (https://pypi.python.org/pypi/azure-mgmt-compute) : Management of Virtual Machines, etc.\n",
       "    -  azure-mgmt-storage (https://pypi.python.org/pypi/azure-mgmt-storage) : Management of storage accounts.\n",
       "    -  azure-mgmt-resource (https://pypi.python.org/pypi/azure-mgmt-resource) : Generic package about Azure Resource Management (ARM)\n",
       "    -  azure-keyvault-secrets (https://pypi.python.org/pypi/azure-keyvault-secrets) : Access to secrets in Key Vault\n",
       "    -  azure-storage-blob (https://pypi.python.org/pypi/azure-storage-blob) : Access to blobs in storage accounts\n",
       "    \n",
       "    A more comprehensive discussion of the rationale for this decision can be found in the following issue:\n",
       "    https://github.com/Azure/azure-sdk-for-python/issues/10646\n",
       "    \n",
       "    \n",
       "    ----------------------------------------\n",
       "WARNING: Discarding https://files.pythonhosted.org/packages/e8/48/ef73d5e71ecb84cacaeaf533f519be81825ad6198acc41bd821f440e7f7c/azure-5.0.0.zip#sha256=f56d22acaba0ce74b821fd3d012d18854f9d0b3662d5a3a9240b1bd587c96b23 (from https://pypi.org/simple/azure/). Command errored out with exit status 1: python setup.py egg_info Check the logs for full command output.\n",
       "  Using cached azure-4.0.0-py2.py3-none-any.whl (2.2 kB)\n",
       "Collecting azure-eventgrid~=1.1\n",
       "  Using cached azure_eventgrid-1.3.0-py2.py3-none-any.whl (167 kB)\n",
       "Collecting azure-cosmosdb-table~=1.0\n",
       "  Using cached azure_cosmosdb_table-1.0.6-py2.py3-none-any.whl (125 kB)\n",
       "Collecting azure-storage-blob~=1.3\n",
       "  Using cached azure_storage_blob-1.5.0-py2.py3-none-any.whl (75 kB)\n",
       "Collecting azure-mgmt~=4.0\n",
       "  Using cached azure_mgmt-4.0.0-py2.py3-none-any.whl (3.0 kB)\n",
       "Collecting azure-loganalytics~=0.1.0\n",
       "  Using cached azure_loganalytics-0.1.1-py2.py3-none-any.whl (16 kB)\n",
       "Collecting azure-keyvault~=1.0\n",
       "  Using cached azure_keyvault-1.1.0-py2.py3-none-any.whl (352 kB)\n",
       "Collecting azure-storage-file~=1.3\n",
       "  Using cached azure_storage_file-1.4.0-py2.py3-none-any.whl (30 kB)\n",
       "Collecting azure-servicefabric~=6.3.0.0\n",
       "  Using cached azure_servicefabric-6.3.0.0-py2.py3-none-any.whl (1.1 MB)\n",
       "Collecting azure-servicebus~=0.21.1\n",
       "  Using cached azure_servicebus-0.21.1-py2.py3-none-any.whl (36 kB)\n",
       "Collecting azure-servicemanagement-legacy~=0.20.6\n",
       "  Using cached azure_servicemanagement_legacy-0.20.7-py2.py3-none-any.whl (75 kB)\n",
       "Collecting azure-graphrbac~=0.40.0\n",
       "  Using cached azure_graphrbac-0.40.0-py2.py3-none-any.whl (63 kB)\n",
       "Collecting azure-batch~=4.1\n",
       "  Using cached azure_batch-4.1.3-py2.py3-none-any.whl (314 kB)\n",
       "Collecting azure-storage-queue~=1.3\n",
       "  Using cached azure_storage_queue-1.4.0-py2.py3-none-any.whl (23 kB)\n",
       "Collecting azure-applicationinsights~=0.1.0\n",
       "  Using cached azure_applicationinsights-0.1.1-py2.py3-none-any.whl (103 kB)\n",
       "Collecting azure-datalake-store~=0.0.18\n",
       "  Using cached azure_datalake_store-0.0.53-py2.py3-none-any.whl (55 kB)\n",
       "Collecting msrest&gt;=0.6.21\n",
       "  Using cached msrest-0.7.1-py3-none-any.whl (85 kB)\n",
       "Collecting azure-common~=1.1\n",
       "  Using cached azure_common-1.1.28-py2.py3-none-any.whl (14 kB)\n",
       "Collecting msrestazure&lt;2.0.0,&gt;=0.4.20\n",
       "  Using cached msrestazure-0.6.4-py2.py3-none-any.whl (40 kB)\n",
       "Collecting azure-nspkg&gt;=2.0.0\n",
       "  Using cached azure_nspkg-3.0.2-py3-none-any.whl (1.5 kB)\n",
       "Collecting cryptography\n",
       "  Using cached cryptography-42.0.5-cp37-abi3-manylinux_2_28_x86_64.whl (4.6 MB)\n",
       "Requirement already satisfied: python-dateutil in /databricks/python3/lib/python3.8/site-packages (from azure-cosmosdb-table~=1.0-&gt;azure) (2.8.1)\n",
       "Collecting azure-cosmosdb-nspkg&gt;=2.0.0\n",
       "  Using cached azure_cosmosdb_nspkg-2.0.2-py2.py3-none-any.whl (2.9 kB)\n",
       "Requirement already satisfied: requests in /databricks/python3/lib/python3.8/site-packages (from azure-cosmosdb-table~=1.0-&gt;azure) (2.25.1)\n",
       "Collecting msal&lt;2,&gt;=1.16.0\n",
       "  Using cached msal-1.28.0-py3-none-any.whl (102 kB)\n",
       "Requirement already satisfied: cffi in /databricks/python3/lib/python3.8/site-packages (from azure-datalake-store~=0.0.18-&gt;azure) (1.14.5)\n",
       "Collecting azure-mgmt-devspaces~=0.1.0\n",
       "  Using cached azure_mgmt_devspaces-0.1.0-py2.py3-none-any.whl (33 kB)\n",
       "Collecting azure-mgmt-billing~=0.2.0\n",
       "  Using cached azure_mgmt_billing-0.2.0-py2.py3-none-any.whl (25 kB)\n",
       "Collecting azure-mgmt-commerce~=1.0\n",
       "  Using cached azure_mgmt_commerce-1.0.1-py2.py3-none-any.whl (22 kB)\n",
       "Collecting azure-mgmt-batchai~=2.0\n",
       "  Using cached azure_mgmt_batchai-2.0.0-py2.py3-none-any.whl (174 kB)\n",
       "Collecting azure-mgmt-monitor~=0.5.2\n",
       "  Using cached azure_mgmt_monitor-0.5.2-py2.py3-none-any.whl (247 kB)\n",
       "Collecting azure-mgmt-servicebus~=0.5.1\n",
       "  Using cached azure_mgmt_servicebus-0.5.3-py2.py3-none-any.whl (112 kB)\n",
       "Collecting azure-mgmt-datalake-analytics~=0.6.0\n",
       "  Using cached azure_mgmt_datalake_analytics-0.6.0-py2.py3-none-any.whl (288 kB)\n",
       "Collecting azure-mgmt-iothubprovisioningservices~=0.2.0\n",
       "  Using cached azure_mgmt_iothubprovisioningservices-0.2.0-py2.py3-none-any.whl (60 kB)\n",
       "Collecting azure-mgmt-signalr~=0.1.0\n",
       "  Using cached azure_mgmt_signalr-0.1.1-py2.py3-none-any.whl (49 kB)\n",
       "Collecting azure-mgmt-compute~=4.0\n",
       "  Using cached azure_mgmt_compute-4.6.2-py2.py3-none-any.whl (3.0 MB)\n",
       "Collecting azure-mgmt-datafactory~=0.6.0\n",
       "  Using cached azure_mgmt_datafactory-0.6.0-py2.py3-none-any.whl (418 kB)\n",
       "Collecting azure-mgmt-sql~=0.9.1\n",
       "  Using cached azure_mgmt_sql-0.9.1-py2.py3-none-any.whl (485 kB)\n",
       "Collecting azure-mgmt-consumption~=2.0\n",
       "  Using cached azure_mgmt_consumption-2.0.0-py2.py3-none-any.whl (46 kB)\n",
       "Collecting azure-mgmt-machinelearningcompute~=0.4.1\n",
       "  Using cached azure_mgmt_machinelearningcompute-0.4.1-py2.py3-none-any.whl (38 kB)\n",
       "Collecting azure-mgmt-managementgroups~=0.1.0\n",
       "  Using cached azure_mgmt_managementgroups-0.1.0-py2.py3-none-any.whl (59 kB)\n",
       "Collecting azure-mgmt-applicationinsights~=0.1.1\n",
       "  Using cached azure_mgmt_applicationinsights-0.1.1-py2.py3-none-any.whl (42 kB)\n",
       "Collecting azure-mgmt-containerservice~=4.2\n",
       "  Using cached azure_mgmt_containerservice-4.4.0-py2.py3-none-any.whl (206 kB)\n",
       "Collecting azure-mgmt-subscription~=0.2.0\n",
       "  Using cached azure_mgmt_subscription-0.2.0-py2.py3-none-any.whl (40 kB)\n",
       "Collecting azure-mgmt-relay~=0.1.0\n",
       "  Using cached azure_mgmt_relay-0.1.0-py2.py3-none-any.whl (36 kB)\n",
       "Collecting azure-mgmt-recoveryservices~=0.3.0\n",
       "  Using cached azure_mgmt_recoveryservices-0.3.0-py2.py3-none-any.whl (70 kB)\n",
       "Collecting azure-mgmt-containerinstance~=1.0\n",
       "  Using cached azure_mgmt_containerinstance-1.5.0-py2.py3-none-any.whl (96 kB)\n",
       "Collecting azure-mgmt-web~=0.35.0\n",
       "  Using cached azure_mgmt_web-0.35.0-py2.py3-none-any.whl (358 kB)\n",
       "Collecting azure-mgmt-hanaonazure~=0.1.1\n",
       "  Using cached azure_mgmt_hanaonazure-0.1.1-py2.py3-none-any.whl (20 kB)\n",
       "Collecting azure-mgmt-servicefabric~=0.2.0\n",
       "  Using cached azure_mgmt_servicefabric-0.2.0-py2.py3-none-any.whl (142 kB)\n",
       "Collecting azure-mgmt-powerbiembedded~=2.0\n",
       "  Using cached azure_mgmt_powerbiembedded-2.0.0-py2.py3-none-any.whl (38 kB)\n",
       "Collecting azure-mgmt-loganalytics~=0.2.0\n",
       "  Using cached azure_mgmt_loganalytics-0.2.0-py2.py3-none-any.whl (89 kB)\n",
       "Collecting azure-mgmt-advisor~=1.0\n",
       "  Using cached azure_mgmt_advisor-1.0.1-py2.py3-none-any.whl (27 kB)\n",
       "Collecting azure-mgmt-datalake-store~=0.5.0\n",
       "  Using cached azure_mgmt_datalake_store-0.5.0-py2.py3-none-any.whl (88 kB)\n",
       "Collecting azure-mgmt-datamigration~=1.0\n",
       "  Using cached azure_mgmt_datamigration-1.0.0-py2.py3-none-any.whl (185 kB)\n",
       "Collecting azure-mgmt-authorization~=0.50.0\n",
       "  Using cached azure_mgmt_authorization-0.50.0-py2.py3-none-any.whl (81 kB)\n",
       "Collecting azure-mgmt-iotcentral~=0.1.0\n",
       "  Using cached azure_mgmt_iotcentral-0.1.0-py2.py3-none-any.whl (28 kB)\n",
       "Collecting azure-mgmt-cosmosdb~=0.4.1\n",
       "  Using cached azure_mgmt_cosmosdb-0.4.1-py2.py3-none-any.whl (100 kB)\n",
       "Collecting azure-mgmt-redis~=5.0\n",
       "  Using cached azure_mgmt_redis-5.0.0-py2.py3-none-any.whl (43 kB)\n",
       "Collecting azure-mgmt-maps~=0.1.0\n",
       "  Using cached azure_mgmt_maps-0.1.0-py2.py3-none-any.whl (31 kB)\n",
       "Collecting azure-mgmt-recoveryservicesbackup~=0.3.0\n",
       "  Using cached azure_mgmt_recoveryservicesbackup-0.3.0-py2.py3-none-any.whl (568 kB)\n",
       "Collecting azure-mgmt-rdbms~=1.2\n",
       "  Using cached azure_mgmt_rdbms-1.9.0-py2.py3-none-any.whl (259 kB)\n",
       "Collecting azure-mgmt-search~=2.0\n",
       "  Using cached azure_mgmt_search-2.1.0-py2.py3-none-any.whl (41 kB)\n",
       "Collecting azure-mgmt-resource~=2.0\n",
       "  Using cached azure_mgmt_resource-2.2.0-py2.py3-none-any.whl (780 kB)\n",
       "Collecting azure-mgmt-cdn~=3.0\n",
       "  Using cached azure_mgmt_cdn-3.1.0-py2.py3-none-any.whl (119 kB)\n",
       "Collecting azure-mgmt-keyvault~=1.0\n",
       "  Using cached azure_mgmt_keyvault-1.1.0-py2.py3-none-any.whl (111 kB)\n",
       "Collecting azure-mgmt-notificationhubs~=2.0\n",
       "  Using cached azure_mgmt_notificationhubs-2.1.0-py2.py3-none-any.whl (76 kB)\n",
       "Collecting azure-mgmt-media~=1.0.0rc2\n",
       "  Using cached azure_mgmt_media-1.0.0-py2.py3-none-any.whl (335 kB)\n",
       "Collecting azure-mgmt-policyinsights~=0.1.0\n",
       "  Using cached azure_mgmt_policyinsights-0.1.0-py2.py3-none-any.whl (44 kB)\n",
       "Collecting azure-mgmt-batch~=5.0\n",
       "  Using cached azure_mgmt_batch-5.0.1-py2.py3-none-any.whl (87 kB)\n",
       "Collecting azure-mgmt-cognitiveservices~=3.0\n",
       "  Using cached azure_mgmt_cognitiveservices-3.0.0-py2.py3-none-any.whl (58 kB)\n",
       "Collecting azure-mgmt-logic~=3.0\n",
       "  Using cached azure_mgmt_logic-3.0.0-py2.py3-none-any.whl (303 kB)\n",
       "Collecting azure-mgmt-marketplaceordering~=0.1.0\n",
       "  Using cached azure_mgmt_marketplaceordering-0.1.0-py2.py3-none-any.whl (16 kB)\n",
       "Collecting azure-mgmt-reservations~=0.2.1\n",
       "  Using cached azure_mgmt_reservations-0.2.1-py2.py3-none-any.whl (50 kB)\n",
       "Collecting azure-mgmt-eventhub~=2.1\n",
       "  Using cached azure_mgmt_eventhub-2.6.0-py2.py3-none-any.whl (189 kB)\n",
       "Collecting azure-mgmt-iothub~=0.5.0\n",
       "  Using cached azure_mgmt_iothub-0.5.0-py2.py3-none-any.whl (102 kB)\n",
       "Collecting azure-mgmt-scheduler~=2.0\n",
       "  Using cached azure_mgmt_scheduler-2.0.0-py2.py3-none-any.whl (67 kB)\n",
       "Collecting azure-mgmt-managementpartner~=0.1.0\n",
       "  Using cached azure_mgmt_managementpartner-0.1.1-py2.py3-none-any.whl (19 kB)\n",
       "Collecting azure-mgmt-storage~=2.0\n",
       "  Using cached azure_mgmt_storage-2.0.0-py2.py3-none-any.whl (558 kB)\n",
       "Collecting azure-mgmt-network~=2.0\n",
       "  Using cached azure_mgmt_network-2.7.0-py2.py3-none-any.whl (11.4 MB)\n",
       "Collecting azure-mgmt-eventgrid~=1.0\n",
       "  Using cached azure_mgmt_eventgrid-1.0.0-py2.py3-none-any.whl (51 kB)\n",
       "Collecting azure-mgmt-msi~=0.2.0\n",
       "  Using cached azure_mgmt_msi-0.2.0-py2.py3-none-any.whl (17 kB)\n",
       "Collecting azure-mgmt-devtestlabs~=2.2\n",
       "  Using cached azure_mgmt_devtestlabs-2.2.0-py2.py3-none-any.whl (194 kB)\n",
       "Collecting azure-mgmt-trafficmanager~=0.50.0\n",
       "  Using cached azure_mgmt_trafficmanager-0.50.0-py2.py3-none-any.whl (52 kB)\n",
       "Collecting azure-mgmt-containerregistry~=2.1\n",
       "  Using cached azure_mgmt_containerregistry-2.8.0-py2.py3-none-any.whl (718 kB)\n",
       "Collecting azure-mgmt-dns~=2.0\n",
       "  Using cached azure_mgmt_dns-2.1.0-py2.py3-none-any.whl (134 kB)\n",
       "Collecting azure-mgmt-nspkg&gt;=2.0.0\n",
       "  Using cached azure_mgmt_nspkg-3.0.2-py3-none-any.whl (1.6 kB)\n",
       "Collecting azure-mgmt-datalake-nspkg&gt;=2.0.0\n",
       "  Using cached azure_mgmt_datalake_nspkg-3.0.1-py3-none-any.whl (1.7 kB)\n",
       "Collecting azure-storage-common~=1.4\n",
       "  Using cached azure_storage_common-1.4.2-py2.py3-none-any.whl (47 kB)\n",
       "Requirement already satisfied: pycparser in /databricks/python3/lib/python3.8/site-packages (from cffi-&gt;azure-datalake-store~=0.0.18-&gt;azure) (2.20)\n",
       "Collecting PyJWT[crypto]&lt;3,&gt;=1.0.0\n",
       "  Using cached PyJWT-2.8.0-py3-none-any.whl (22 kB)\n",
       "Collecting azure-core&gt;=1.24.0\n",
       "  Using cached azure_core-1.30.1-py3-none-any.whl (193 kB)\n",
       "Requirement already satisfied: certifi&gt;=2017.4.17 in /databricks/python3/lib/python3.8/site-packages (from msrest&gt;=0.6.21-&gt;azure-applicationinsights~=0.1.0-&gt;azure) (2020.12.5)\n",
       "Collecting requests-oauthlib&gt;=0.5.0\n",
       "  Using cached requests_oauthlib-1.4.0-py2.py3-none-any.whl (24 kB)\n",
       "Collecting isodate&gt;=0.6.0\n",
       "  Using cached isodate-0.6.1-py2.py3-none-any.whl (41 kB)\n",
       "Requirement already satisfied: six&gt;=1.11.0 in /databricks/python3/lib/python3.8/site-packages (from azure-core&gt;=1.24.0-&gt;msrest&gt;=0.6.21-&gt;azure-applicationinsights~=0.1.0-&gt;azure) (1.15.0)\n",
       "Collecting typing-extensions&gt;=4.6.0\n",
       "  Using cached typing_extensions-4.10.0-py3-none-any.whl (33 kB)\n",
       "Collecting adal&lt;2.0.0,&gt;=0.6.0\n",
       "  Using cached adal-1.2.7-py2.py3-none-any.whl (55 kB)\n",
       "Requirement already satisfied: idna&lt;3,&gt;=2.5 in /databricks/python3/lib/python3.8/site-packages (from requests-&gt;azure-cosmosdb-table~=1.0-&gt;azure) (2.10)\n",
       "Requirement already satisfied: urllib3&lt;1.27,&gt;=1.21.1 in /databricks/python3/lib/python3.8/site-packages (from requests-&gt;azure-cosmosdb-table~=1.0-&gt;azure) (1.25.11)\n",
       "Requirement already satisfied: chardet&lt;5,&gt;=3.0.2 in /databricks/python3/lib/python3.8/site-packages (from requests-&gt;azure-cosmosdb-table~=1.0-&gt;azure) (4.0.0)\n",
       "Collecting oauthlib&gt;=3.0.0\n",
       "  Using cached oauthlib-3.2.2-py3-none-any.whl (151 kB)\n",
       "Installing collected packages: typing-extensions, oauthlib, requests-oauthlib, PyJWT, isodate, cryptography, azure-nspkg, azure-core, msrest, azure-mgmt-nspkg, adal, msrestazure, azure-mgmt-datalake-nspkg, azure-common, msal, azure-storage-common, azure-mgmt-web, azure-mgmt-trafficmanager, azure-mgmt-subscription, azure-mgmt-storage, azure-mgmt-sql, azure-mgmt-signalr, azure-mgmt-servicefabric, azure-mgmt-servicebus, azure-mgmt-search, azure-mgmt-scheduler, azure-mgmt-resource, azure-mgmt-reservations, azure-mgmt-relay, azure-mgmt-redis, azure-mgmt-recoveryservicesbackup, azure-mgmt-recoveryservices, azure-mgmt-rdbms, azure-mgmt-powerbiembedded, azure-mgmt-policyinsights, azure-mgmt-notificationhubs, azure-mgmt-network, azure-mgmt-msi, azure-mgmt-monitor, azure-mgmt-media, azure-mgmt-marketplaceordering, azure-mgmt-maps, azure-mgmt-managementpartner, azure-mgmt-managementgroups, azure-mgmt-machinelearningcompute, azure-mgmt-logic, azure-mgmt-loganalytics, azure-mgmt-keyvault, azure-mgmt-iothubprovisioningservices, azure-mgmt-iothub, azure-mgmt-iotcentral, azure-mgmt-hanaonazure, azure-mgmt-eventhub, azure-mgmt-eventgrid, azure-mgmt-dns, azure-mgmt-devtestlabs, azure-mgmt-devspaces, azure-mgmt-datamigration, azure-mgmt-datalake-store, azure-mgmt-datalake-analytics, azure-mgmt-datafactory, azure-mgmt-cosmosdb, azure-mgmt-containerservice, azure-mgmt-containerregistry, azure-mgmt-containerinstance, azure-mgmt-consumption, azure-mgmt-compute, azure-mgmt-commerce, azure-mgmt-cognitiveservices, azure-mgmt-cdn, azure-mgmt-billing, azure-mgmt-batchai, azure-mgmt-batch, azure-mgmt-authorization, azure-mgmt-applicationinsights, azure-mgmt-advisor, azure-cosmosdb-nspkg, azure-storage-queue, azure-storage-file, azure-storage-blob, azure-servicemanagement-legacy, azure-servicefabric, azure-servicebus, azure-mgmt, azure-loganalytics, azure-keyvault, azure-graphrbac, azure-eventgrid, azure-datalake-store, azure-cosmosdb-table, azure-batch, azure-applicationinsights, azure\n",
       "Successfully installed PyJWT-2.8.0 adal-1.2.7 azure-4.0.0 azure-applicationinsights-0.1.1 azure-batch-4.1.3 azure-common-1.1.28 azure-core-1.30.1 azure-cosmosdb-nspkg-2.0.2 azure-cosmosdb-table-1.0.6 azure-datalake-store-0.0.53 azure-eventgrid-1.3.0 azure-graphrbac-0.40.0 azure-keyvault-1.1.0 azure-loganalytics-0.1.1 azure-mgmt-4.0.0 azure-mgmt-advisor-1.0.1 azure-mgmt-applicationinsights-0.1.1 azure-mgmt-authorization-0.50.0 azure-mgmt-batch-5.0.1 azure-mgmt-batchai-2.0.0 azure-mgmt-billing-0.2.0 azure-mgmt-cdn-3.1.0 azure-mgmt-cognitiveservices-3.0.0 azure-mgmt-commerce-1.0.1 azure-mgmt-compute-4.6.2 azure-mgmt-consumption-2.0.0 azure-mgmt-containerinstance-1.5.0 azure-mgmt-containerregistry-2.8.0 azure-mgmt-containerservice-4.4.0 azure-mgmt-cosmosdb-0.4.1 azure-mgmt-datafactory-0.6.0 azure-mgmt-datalake-analytics-0.6.0 azure-mgmt-datalake-nspkg-3.0.1 azure-mgmt-datalake-store-0.5.0 azure-mgmt-datamigration-1.0.0 azure-mgmt-devspaces-0.1.0 azure-mgmt-devtestlabs-2.2.0 azure-mgmt-dns-2.1.0 azure-mgmt-eventgrid-1.0.0 azure-mgmt-eventhub-2.6.0 azure-mgmt-hanaonazure-0.1.1 azure-mgmt-iotcentral-0.1.0 azure-mgmt-iothub-0.5.0 azure-mgmt-iothubprovisioningservices-0.2.0 azure-mgmt-keyvault-1.1.0 azure-mgmt-loganalytics-0.2.0 azure-mgmt-logic-3.0.0 azure-mgmt-machinelearningcompute-0.4.1 azure-mgmt-managementgroups-0.1.0 azure-mgmt-managementpartner-0.1.1 azure-mgmt-maps-0.1.0 azure-mgmt-marketplaceordering-0.1.0 azure-mgmt-media-1.0.0 azure-mgmt-monitor-0.5.2 azure-mgmt-msi-0.2.0 azure-mgmt-network-2.7.0 azure-mgmt-notificationhubs-2.1.0 azure-mgmt-nspkg-3.0.2 azure-mgmt-policyinsights-0.1.0 azure-mgmt-powerbiembedded-2.0.0 azure-mgmt-rdbms-1.9.0 azure-mgmt-recoveryservices-0.3.0 azure-mgmt-recoveryservicesbackup-0.3.0 azure-mgmt-redis-5.0.0 azure-mgmt-relay-0.1.0 azure-mgmt-reservations-0.2.1 azure-mgmt-resource-2.2.0 azure-mgmt-scheduler-2.0.0 azure-mgmt-search-2.1.0 azure-mgmt-servicebus-0.5.3 azure-mgmt-servicefabric-0.2.0 azure-mgmt-signalr-0.1.1 azure-mgmt-sql-0.9.1 azure-mgmt-storage-2.0.0 azure-mgmt-subscription-0.2.0 azure-mgmt-trafficmanager-0.50.0 azure-mgmt-web-0.35.0 azure-nspkg-3.0.2 azure-servicebus-0.21.1 azure-servicefabric-6.3.0.0 azure-servicemanagement-legacy-0.20.7 azure-storage-blob-1.5.0 azure-storage-common-1.4.2 azure-storage-file-1.4.0 azure-storage-queue-1.4.0 cryptography-42.0.5 isodate-0.6.1 msal-1.28.0 msrest-0.7.1 msrestazure-0.6.4 oauthlib-3.2.2 requests-oauthlib-1.4.0 typing-extensions-4.10.0\n",
       "WARNING: You are using pip version 21.0.1; however, version 24.0 is available.\n",
       "You should consider upgrading via the &#39;/local_disk0/.ephemeral_nfs/envs/pythonEnv-ce066890-3ab2-40cc-8c72-2a315c4de7d0/bin/python -m pip install --upgrade pip&#39; command.\n",
       "Python interpreter will be restarted.\n",
       "</div>"
      ]
     },
     "metadata": {
      "application/vnd.databricks.v1+output": {
       "addedWidgets": {},
       "arguments": {},
       "data": "<div class=\"ansiout\">Python interpreter will be restarted.\nCollecting azure\n  Using cached azure-5.0.0.zip (4.6 kB)\n    ERROR: Command errored out with exit status 1:\n     command: /local_disk0/.ephemeral_nfs/envs/pythonEnv-ce066890-3ab2-40cc-8c72-2a315c4de7d0/bin/python -c &#39;import sys, setuptools, tokenize; sys.argv[0] = &#39;&#34;&#39;&#34;&#39;/tmp/pip-install-909z36xw/azure_b4b738b250a4446b9a1dbd349da95285/setup.py&#39;&#34;&#39;&#34;&#39;; __file__=&#39;&#34;&#39;&#34;&#39;/tmp/pip-install-909z36xw/azure_b4b738b250a4446b9a1dbd349da95285/setup.py&#39;&#34;&#39;&#34;&#39;;f=getattr(tokenize, &#39;&#34;&#39;&#34;&#39;open&#39;&#34;&#39;&#34;&#39;, open)(__file__);code=f.read().replace(&#39;&#34;&#39;&#34;&#39;\\r\\n&#39;&#34;&#39;&#34;&#39;, &#39;&#34;&#39;&#34;&#39;\\n&#39;&#34;&#39;&#34;&#39;);f.close();exec(compile(code, __file__, &#39;&#34;&#39;&#34;&#39;exec&#39;&#34;&#39;&#34;&#39;))&#39; egg_info --egg-base /tmp/pip-pip-egg-info-8yc5ubd4\n         cwd: /tmp/pip-install-909z36xw/azure_b4b738b250a4446b9a1dbd349da95285/\n    Complete output (24 lines):\n    Traceback (most recent call last):\n      File &#34;&lt;string&gt;&#34;, line 1, in &lt;module&gt;\n      File &#34;/tmp/pip-install-909z36xw/azure_b4b738b250a4446b9a1dbd349da95285/setup.py&#34;, line 60, in &lt;module&gt;\n        raise RuntimeError(message)\n    RuntimeError:\n    \n    Starting with v5.0.0, the &#39;azure&#39; meta-package is deprecated and cannot be installed anymore.\n    Please install the service specific packages prefixed by `azure` needed for your application.\n    \n    The complete list of available packages can be found at:\n    https://aka.ms/azsdk/python/all\n    \n    Here&#39;s a non-exhaustive list of common packages:\n    \n    -  azure-mgmt-compute (https://pypi.python.org/pypi/azure-mgmt-compute) : Management of Virtual Machines, etc.\n    -  azure-mgmt-storage (https://pypi.python.org/pypi/azure-mgmt-storage) : Management of storage accounts.\n    -  azure-mgmt-resource (https://pypi.python.org/pypi/azure-mgmt-resource) : Generic package about Azure Resource Management (ARM)\n    -  azure-keyvault-secrets (https://pypi.python.org/pypi/azure-keyvault-secrets) : Access to secrets in Key Vault\n    -  azure-storage-blob (https://pypi.python.org/pypi/azure-storage-blob) : Access to blobs in storage accounts\n    \n    A more comprehensive discussion of the rationale for this decision can be found in the following issue:\n    https://github.com/Azure/azure-sdk-for-python/issues/10646\n    \n    \n    ----------------------------------------\nWARNING: Discarding https://files.pythonhosted.org/packages/e8/48/ef73d5e71ecb84cacaeaf533f519be81825ad6198acc41bd821f440e7f7c/azure-5.0.0.zip#sha256=f56d22acaba0ce74b821fd3d012d18854f9d0b3662d5a3a9240b1bd587c96b23 (from https://pypi.org/simple/azure/). Command errored out with exit status 1: python setup.py egg_info Check the logs for full command output.\n  Using cached azure-4.0.0-py2.py3-none-any.whl (2.2 kB)\nCollecting azure-eventgrid~=1.1\n  Using cached azure_eventgrid-1.3.0-py2.py3-none-any.whl (167 kB)\nCollecting azure-cosmosdb-table~=1.0\n  Using cached azure_cosmosdb_table-1.0.6-py2.py3-none-any.whl (125 kB)\nCollecting azure-storage-blob~=1.3\n  Using cached azure_storage_blob-1.5.0-py2.py3-none-any.whl (75 kB)\nCollecting azure-mgmt~=4.0\n  Using cached azure_mgmt-4.0.0-py2.py3-none-any.whl (3.0 kB)\nCollecting azure-loganalytics~=0.1.0\n  Using cached azure_loganalytics-0.1.1-py2.py3-none-any.whl (16 kB)\nCollecting azure-keyvault~=1.0\n  Using cached azure_keyvault-1.1.0-py2.py3-none-any.whl (352 kB)\nCollecting azure-storage-file~=1.3\n  Using cached azure_storage_file-1.4.0-py2.py3-none-any.whl (30 kB)\nCollecting azure-servicefabric~=6.3.0.0\n  Using cached azure_servicefabric-6.3.0.0-py2.py3-none-any.whl (1.1 MB)\nCollecting azure-servicebus~=0.21.1\n  Using cached azure_servicebus-0.21.1-py2.py3-none-any.whl (36 kB)\nCollecting azure-servicemanagement-legacy~=0.20.6\n  Using cached azure_servicemanagement_legacy-0.20.7-py2.py3-none-any.whl (75 kB)\nCollecting azure-graphrbac~=0.40.0\n  Using cached azure_graphrbac-0.40.0-py2.py3-none-any.whl (63 kB)\nCollecting azure-batch~=4.1\n  Using cached azure_batch-4.1.3-py2.py3-none-any.whl (314 kB)\nCollecting azure-storage-queue~=1.3\n  Using cached azure_storage_queue-1.4.0-py2.py3-none-any.whl (23 kB)\nCollecting azure-applicationinsights~=0.1.0\n  Using cached azure_applicationinsights-0.1.1-py2.py3-none-any.whl (103 kB)\nCollecting azure-datalake-store~=0.0.18\n  Using cached azure_datalake_store-0.0.53-py2.py3-none-any.whl (55 kB)\nCollecting msrest&gt;=0.6.21\n  Using cached msrest-0.7.1-py3-none-any.whl (85 kB)\nCollecting azure-common~=1.1\n  Using cached azure_common-1.1.28-py2.py3-none-any.whl (14 kB)\nCollecting msrestazure&lt;2.0.0,&gt;=0.4.20\n  Using cached msrestazure-0.6.4-py2.py3-none-any.whl (40 kB)\nCollecting azure-nspkg&gt;=2.0.0\n  Using cached azure_nspkg-3.0.2-py3-none-any.whl (1.5 kB)\nCollecting cryptography\n  Using cached cryptography-42.0.5-cp37-abi3-manylinux_2_28_x86_64.whl (4.6 MB)\nRequirement already satisfied: python-dateutil in /databricks/python3/lib/python3.8/site-packages (from azure-cosmosdb-table~=1.0-&gt;azure) (2.8.1)\nCollecting azure-cosmosdb-nspkg&gt;=2.0.0\n  Using cached azure_cosmosdb_nspkg-2.0.2-py2.py3-none-any.whl (2.9 kB)\nRequirement already satisfied: requests in /databricks/python3/lib/python3.8/site-packages (from azure-cosmosdb-table~=1.0-&gt;azure) (2.25.1)\nCollecting msal&lt;2,&gt;=1.16.0\n  Using cached msal-1.28.0-py3-none-any.whl (102 kB)\nRequirement already satisfied: cffi in /databricks/python3/lib/python3.8/site-packages (from azure-datalake-store~=0.0.18-&gt;azure) (1.14.5)\nCollecting azure-mgmt-devspaces~=0.1.0\n  Using cached azure_mgmt_devspaces-0.1.0-py2.py3-none-any.whl (33 kB)\nCollecting azure-mgmt-billing~=0.2.0\n  Using cached azure_mgmt_billing-0.2.0-py2.py3-none-any.whl (25 kB)\nCollecting azure-mgmt-commerce~=1.0\n  Using cached azure_mgmt_commerce-1.0.1-py2.py3-none-any.whl (22 kB)\nCollecting azure-mgmt-batchai~=2.0\n  Using cached azure_mgmt_batchai-2.0.0-py2.py3-none-any.whl (174 kB)\nCollecting azure-mgmt-monitor~=0.5.2\n  Using cached azure_mgmt_monitor-0.5.2-py2.py3-none-any.whl (247 kB)\nCollecting azure-mgmt-servicebus~=0.5.1\n  Using cached azure_mgmt_servicebus-0.5.3-py2.py3-none-any.whl (112 kB)\nCollecting azure-mgmt-datalake-analytics~=0.6.0\n  Using cached azure_mgmt_datalake_analytics-0.6.0-py2.py3-none-any.whl (288 kB)\nCollecting azure-mgmt-iothubprovisioningservices~=0.2.0\n  Using cached azure_mgmt_iothubprovisioningservices-0.2.0-py2.py3-none-any.whl (60 kB)\nCollecting azure-mgmt-signalr~=0.1.0\n  Using cached azure_mgmt_signalr-0.1.1-py2.py3-none-any.whl (49 kB)\nCollecting azure-mgmt-compute~=4.0\n  Using cached azure_mgmt_compute-4.6.2-py2.py3-none-any.whl (3.0 MB)\nCollecting azure-mgmt-datafactory~=0.6.0\n  Using cached azure_mgmt_datafactory-0.6.0-py2.py3-none-any.whl (418 kB)\nCollecting azure-mgmt-sql~=0.9.1\n  Using cached azure_mgmt_sql-0.9.1-py2.py3-none-any.whl (485 kB)\nCollecting azure-mgmt-consumption~=2.0\n  Using cached azure_mgmt_consumption-2.0.0-py2.py3-none-any.whl (46 kB)\nCollecting azure-mgmt-machinelearningcompute~=0.4.1\n  Using cached azure_mgmt_machinelearningcompute-0.4.1-py2.py3-none-any.whl (38 kB)\nCollecting azure-mgmt-managementgroups~=0.1.0\n  Using cached azure_mgmt_managementgroups-0.1.0-py2.py3-none-any.whl (59 kB)\nCollecting azure-mgmt-applicationinsights~=0.1.1\n  Using cached azure_mgmt_applicationinsights-0.1.1-py2.py3-none-any.whl (42 kB)\nCollecting azure-mgmt-containerservice~=4.2\n  Using cached azure_mgmt_containerservice-4.4.0-py2.py3-none-any.whl (206 kB)\nCollecting azure-mgmt-subscription~=0.2.0\n  Using cached azure_mgmt_subscription-0.2.0-py2.py3-none-any.whl (40 kB)\nCollecting azure-mgmt-relay~=0.1.0\n  Using cached azure_mgmt_relay-0.1.0-py2.py3-none-any.whl (36 kB)\nCollecting azure-mgmt-recoveryservices~=0.3.0\n  Using cached azure_mgmt_recoveryservices-0.3.0-py2.py3-none-any.whl (70 kB)\nCollecting azure-mgmt-containerinstance~=1.0\n  Using cached azure_mgmt_containerinstance-1.5.0-py2.py3-none-any.whl (96 kB)\nCollecting azure-mgmt-web~=0.35.0\n  Using cached azure_mgmt_web-0.35.0-py2.py3-none-any.whl (358 kB)\nCollecting azure-mgmt-hanaonazure~=0.1.1\n  Using cached azure_mgmt_hanaonazure-0.1.1-py2.py3-none-any.whl (20 kB)\nCollecting azure-mgmt-servicefabric~=0.2.0\n  Using cached azure_mgmt_servicefabric-0.2.0-py2.py3-none-any.whl (142 kB)\nCollecting azure-mgmt-powerbiembedded~=2.0\n  Using cached azure_mgmt_powerbiembedded-2.0.0-py2.py3-none-any.whl (38 kB)\nCollecting azure-mgmt-loganalytics~=0.2.0\n  Using cached azure_mgmt_loganalytics-0.2.0-py2.py3-none-any.whl (89 kB)\nCollecting azure-mgmt-advisor~=1.0\n  Using cached azure_mgmt_advisor-1.0.1-py2.py3-none-any.whl (27 kB)\nCollecting azure-mgmt-datalake-store~=0.5.0\n  Using cached azure_mgmt_datalake_store-0.5.0-py2.py3-none-any.whl (88 kB)\nCollecting azure-mgmt-datamigration~=1.0\n  Using cached azure_mgmt_datamigration-1.0.0-py2.py3-none-any.whl (185 kB)\nCollecting azure-mgmt-authorization~=0.50.0\n  Using cached azure_mgmt_authorization-0.50.0-py2.py3-none-any.whl (81 kB)\nCollecting azure-mgmt-iotcentral~=0.1.0\n  Using cached azure_mgmt_iotcentral-0.1.0-py2.py3-none-any.whl (28 kB)\nCollecting azure-mgmt-cosmosdb~=0.4.1\n  Using cached azure_mgmt_cosmosdb-0.4.1-py2.py3-none-any.whl (100 kB)\nCollecting azure-mgmt-redis~=5.0\n  Using cached azure_mgmt_redis-5.0.0-py2.py3-none-any.whl (43 kB)\nCollecting azure-mgmt-maps~=0.1.0\n  Using cached azure_mgmt_maps-0.1.0-py2.py3-none-any.whl (31 kB)\nCollecting azure-mgmt-recoveryservicesbackup~=0.3.0\n  Using cached azure_mgmt_recoveryservicesbackup-0.3.0-py2.py3-none-any.whl (568 kB)\nCollecting azure-mgmt-rdbms~=1.2\n  Using cached azure_mgmt_rdbms-1.9.0-py2.py3-none-any.whl (259 kB)\nCollecting azure-mgmt-search~=2.0\n  Using cached azure_mgmt_search-2.1.0-py2.py3-none-any.whl (41 kB)\nCollecting azure-mgmt-resource~=2.0\n  Using cached azure_mgmt_resource-2.2.0-py2.py3-none-any.whl (780 kB)\nCollecting azure-mgmt-cdn~=3.0\n  Using cached azure_mgmt_cdn-3.1.0-py2.py3-none-any.whl (119 kB)\nCollecting azure-mgmt-keyvault~=1.0\n  Using cached azure_mgmt_keyvault-1.1.0-py2.py3-none-any.whl (111 kB)\nCollecting azure-mgmt-notificationhubs~=2.0\n  Using cached azure_mgmt_notificationhubs-2.1.0-py2.py3-none-any.whl (76 kB)\nCollecting azure-mgmt-media~=1.0.0rc2\n  Using cached azure_mgmt_media-1.0.0-py2.py3-none-any.whl (335 kB)\nCollecting azure-mgmt-policyinsights~=0.1.0\n  Using cached azure_mgmt_policyinsights-0.1.0-py2.py3-none-any.whl (44 kB)\nCollecting azure-mgmt-batch~=5.0\n  Using cached azure_mgmt_batch-5.0.1-py2.py3-none-any.whl (87 kB)\nCollecting azure-mgmt-cognitiveservices~=3.0\n  Using cached azure_mgmt_cognitiveservices-3.0.0-py2.py3-none-any.whl (58 kB)\nCollecting azure-mgmt-logic~=3.0\n  Using cached azure_mgmt_logic-3.0.0-py2.py3-none-any.whl (303 kB)\nCollecting azure-mgmt-marketplaceordering~=0.1.0\n  Using cached azure_mgmt_marketplaceordering-0.1.0-py2.py3-none-any.whl (16 kB)\nCollecting azure-mgmt-reservations~=0.2.1\n  Using cached azure_mgmt_reservations-0.2.1-py2.py3-none-any.whl (50 kB)\nCollecting azure-mgmt-eventhub~=2.1\n  Using cached azure_mgmt_eventhub-2.6.0-py2.py3-none-any.whl (189 kB)\nCollecting azure-mgmt-iothub~=0.5.0\n  Using cached azure_mgmt_iothub-0.5.0-py2.py3-none-any.whl (102 kB)\nCollecting azure-mgmt-scheduler~=2.0\n  Using cached azure_mgmt_scheduler-2.0.0-py2.py3-none-any.whl (67 kB)\nCollecting azure-mgmt-managementpartner~=0.1.0\n  Using cached azure_mgmt_managementpartner-0.1.1-py2.py3-none-any.whl (19 kB)\nCollecting azure-mgmt-storage~=2.0\n  Using cached azure_mgmt_storage-2.0.0-py2.py3-none-any.whl (558 kB)\nCollecting azure-mgmt-network~=2.0\n  Using cached azure_mgmt_network-2.7.0-py2.py3-none-any.whl (11.4 MB)\nCollecting azure-mgmt-eventgrid~=1.0\n  Using cached azure_mgmt_eventgrid-1.0.0-py2.py3-none-any.whl (51 kB)\nCollecting azure-mgmt-msi~=0.2.0\n  Using cached azure_mgmt_msi-0.2.0-py2.py3-none-any.whl (17 kB)\nCollecting azure-mgmt-devtestlabs~=2.2\n  Using cached azure_mgmt_devtestlabs-2.2.0-py2.py3-none-any.whl (194 kB)\nCollecting azure-mgmt-trafficmanager~=0.50.0\n  Using cached azure_mgmt_trafficmanager-0.50.0-py2.py3-none-any.whl (52 kB)\nCollecting azure-mgmt-containerregistry~=2.1\n  Using cached azure_mgmt_containerregistry-2.8.0-py2.py3-none-any.whl (718 kB)\nCollecting azure-mgmt-dns~=2.0\n  Using cached azure_mgmt_dns-2.1.0-py2.py3-none-any.whl (134 kB)\nCollecting azure-mgmt-nspkg&gt;=2.0.0\n  Using cached azure_mgmt_nspkg-3.0.2-py3-none-any.whl (1.6 kB)\nCollecting azure-mgmt-datalake-nspkg&gt;=2.0.0\n  Using cached azure_mgmt_datalake_nspkg-3.0.1-py3-none-any.whl (1.7 kB)\nCollecting azure-storage-common~=1.4\n  Using cached azure_storage_common-1.4.2-py2.py3-none-any.whl (47 kB)\nRequirement already satisfied: pycparser in /databricks/python3/lib/python3.8/site-packages (from cffi-&gt;azure-datalake-store~=0.0.18-&gt;azure) (2.20)\nCollecting PyJWT[crypto]&lt;3,&gt;=1.0.0\n  Using cached PyJWT-2.8.0-py3-none-any.whl (22 kB)\nCollecting azure-core&gt;=1.24.0\n  Using cached azure_core-1.30.1-py3-none-any.whl (193 kB)\nRequirement already satisfied: certifi&gt;=2017.4.17 in /databricks/python3/lib/python3.8/site-packages (from msrest&gt;=0.6.21-&gt;azure-applicationinsights~=0.1.0-&gt;azure) (2020.12.5)\nCollecting requests-oauthlib&gt;=0.5.0\n  Using cached requests_oauthlib-1.4.0-py2.py3-none-any.whl (24 kB)\nCollecting isodate&gt;=0.6.0\n  Using cached isodate-0.6.1-py2.py3-none-any.whl (41 kB)\nRequirement already satisfied: six&gt;=1.11.0 in /databricks/python3/lib/python3.8/site-packages (from azure-core&gt;=1.24.0-&gt;msrest&gt;=0.6.21-&gt;azure-applicationinsights~=0.1.0-&gt;azure) (1.15.0)\nCollecting typing-extensions&gt;=4.6.0\n  Using cached typing_extensions-4.10.0-py3-none-any.whl (33 kB)\nCollecting adal&lt;2.0.0,&gt;=0.6.0\n  Using cached adal-1.2.7-py2.py3-none-any.whl (55 kB)\nRequirement already satisfied: idna&lt;3,&gt;=2.5 in /databricks/python3/lib/python3.8/site-packages (from requests-&gt;azure-cosmosdb-table~=1.0-&gt;azure) (2.10)\nRequirement already satisfied: urllib3&lt;1.27,&gt;=1.21.1 in /databricks/python3/lib/python3.8/site-packages (from requests-&gt;azure-cosmosdb-table~=1.0-&gt;azure) (1.25.11)\nRequirement already satisfied: chardet&lt;5,&gt;=3.0.2 in /databricks/python3/lib/python3.8/site-packages (from requests-&gt;azure-cosmosdb-table~=1.0-&gt;azure) (4.0.0)\nCollecting oauthlib&gt;=3.0.0\n  Using cached oauthlib-3.2.2-py3-none-any.whl (151 kB)\nInstalling collected packages: typing-extensions, oauthlib, requests-oauthlib, PyJWT, isodate, cryptography, azure-nspkg, azure-core, msrest, azure-mgmt-nspkg, adal, msrestazure, azure-mgmt-datalake-nspkg, azure-common, msal, azure-storage-common, azure-mgmt-web, azure-mgmt-trafficmanager, azure-mgmt-subscription, azure-mgmt-storage, azure-mgmt-sql, azure-mgmt-signalr, azure-mgmt-servicefabric, azure-mgmt-servicebus, azure-mgmt-search, azure-mgmt-scheduler, azure-mgmt-resource, azure-mgmt-reservations, azure-mgmt-relay, azure-mgmt-redis, azure-mgmt-recoveryservicesbackup, azure-mgmt-recoveryservices, azure-mgmt-rdbms, azure-mgmt-powerbiembedded, azure-mgmt-policyinsights, azure-mgmt-notificationhubs, azure-mgmt-network, azure-mgmt-msi, azure-mgmt-monitor, azure-mgmt-media, azure-mgmt-marketplaceordering, azure-mgmt-maps, azure-mgmt-managementpartner, azure-mgmt-managementgroups, azure-mgmt-machinelearningcompute, azure-mgmt-logic, azure-mgmt-loganalytics, azure-mgmt-keyvault, azure-mgmt-iothubprovisioningservices, azure-mgmt-iothub, azure-mgmt-iotcentral, azure-mgmt-hanaonazure, azure-mgmt-eventhub, azure-mgmt-eventgrid, azure-mgmt-dns, azure-mgmt-devtestlabs, azure-mgmt-devspaces, azure-mgmt-datamigration, azure-mgmt-datalake-store, azure-mgmt-datalake-analytics, azure-mgmt-datafactory, azure-mgmt-cosmosdb, azure-mgmt-containerservice, azure-mgmt-containerregistry, azure-mgmt-containerinstance, azure-mgmt-consumption, azure-mgmt-compute, azure-mgmt-commerce, azure-mgmt-cognitiveservices, azure-mgmt-cdn, azure-mgmt-billing, azure-mgmt-batchai, azure-mgmt-batch, azure-mgmt-authorization, azure-mgmt-applicationinsights, azure-mgmt-advisor, azure-cosmosdb-nspkg, azure-storage-queue, azure-storage-file, azure-storage-blob, azure-servicemanagement-legacy, azure-servicefabric, azure-servicebus, azure-mgmt, azure-loganalytics, azure-keyvault, azure-graphrbac, azure-eventgrid, azure-datalake-store, azure-cosmosdb-table, azure-batch, azure-applicationinsights, azure\nSuccessfully installed PyJWT-2.8.0 adal-1.2.7 azure-4.0.0 azure-applicationinsights-0.1.1 azure-batch-4.1.3 azure-common-1.1.28 azure-core-1.30.1 azure-cosmosdb-nspkg-2.0.2 azure-cosmosdb-table-1.0.6 azure-datalake-store-0.0.53 azure-eventgrid-1.3.0 azure-graphrbac-0.40.0 azure-keyvault-1.1.0 azure-loganalytics-0.1.1 azure-mgmt-4.0.0 azure-mgmt-advisor-1.0.1 azure-mgmt-applicationinsights-0.1.1 azure-mgmt-authorization-0.50.0 azure-mgmt-batch-5.0.1 azure-mgmt-batchai-2.0.0 azure-mgmt-billing-0.2.0 azure-mgmt-cdn-3.1.0 azure-mgmt-cognitiveservices-3.0.0 azure-mgmt-commerce-1.0.1 azure-mgmt-compute-4.6.2 azure-mgmt-consumption-2.0.0 azure-mgmt-containerinstance-1.5.0 azure-mgmt-containerregistry-2.8.0 azure-mgmt-containerservice-4.4.0 azure-mgmt-cosmosdb-0.4.1 azure-mgmt-datafactory-0.6.0 azure-mgmt-datalake-analytics-0.6.0 azure-mgmt-datalake-nspkg-3.0.1 azure-mgmt-datalake-store-0.5.0 azure-mgmt-datamigration-1.0.0 azure-mgmt-devspaces-0.1.0 azure-mgmt-devtestlabs-2.2.0 azure-mgmt-dns-2.1.0 azure-mgmt-eventgrid-1.0.0 azure-mgmt-eventhub-2.6.0 azure-mgmt-hanaonazure-0.1.1 azure-mgmt-iotcentral-0.1.0 azure-mgmt-iothub-0.5.0 azure-mgmt-iothubprovisioningservices-0.2.0 azure-mgmt-keyvault-1.1.0 azure-mgmt-loganalytics-0.2.0 azure-mgmt-logic-3.0.0 azure-mgmt-machinelearningcompute-0.4.1 azure-mgmt-managementgroups-0.1.0 azure-mgmt-managementpartner-0.1.1 azure-mgmt-maps-0.1.0 azure-mgmt-marketplaceordering-0.1.0 azure-mgmt-media-1.0.0 azure-mgmt-monitor-0.5.2 azure-mgmt-msi-0.2.0 azure-mgmt-network-2.7.0 azure-mgmt-notificationhubs-2.1.0 azure-mgmt-nspkg-3.0.2 azure-mgmt-policyinsights-0.1.0 azure-mgmt-powerbiembedded-2.0.0 azure-mgmt-rdbms-1.9.0 azure-mgmt-recoveryservices-0.3.0 azure-mgmt-recoveryservicesbackup-0.3.0 azure-mgmt-redis-5.0.0 azure-mgmt-relay-0.1.0 azure-mgmt-reservations-0.2.1 azure-mgmt-resource-2.2.0 azure-mgmt-scheduler-2.0.0 azure-mgmt-search-2.1.0 azure-mgmt-servicebus-0.5.3 azure-mgmt-servicefabric-0.2.0 azure-mgmt-signalr-0.1.1 azure-mgmt-sql-0.9.1 azure-mgmt-storage-2.0.0 azure-mgmt-subscription-0.2.0 azure-mgmt-trafficmanager-0.50.0 azure-mgmt-web-0.35.0 azure-nspkg-3.0.2 azure-servicebus-0.21.1 azure-servicefabric-6.3.0.0 azure-servicemanagement-legacy-0.20.7 azure-storage-blob-1.5.0 azure-storage-common-1.4.2 azure-storage-file-1.4.0 azure-storage-queue-1.4.0 cryptography-42.0.5 isodate-0.6.1 msal-1.28.0 msrest-0.7.1 msrestazure-0.6.4 oauthlib-3.2.2 requests-oauthlib-1.4.0 typing-extensions-4.10.0\nWARNING: You are using pip version 21.0.1; however, version 24.0 is available.\nYou should consider upgrading via the &#39;/local_disk0/.ephemeral_nfs/envs/pythonEnv-ce066890-3ab2-40cc-8c72-2a315c4de7d0/bin/python -m pip install --upgrade pip&#39; command.\nPython interpreter will be restarted.\n</div>",
       "datasetInfos": [],
       "metadata": {},
       "removedWidgets": [],
       "type": "html"
      }
     },
     "output_type": "display_data"
    }
   ],
   "source": [
    "pip install azure"
   ]
  },
  {
   "cell_type": "code",
   "execution_count": 0,
   "metadata": {
    "application/vnd.databricks.v1+cell": {
     "cellMetadata": {
      "byteLimit": 2048000,
      "rowLimit": 10000
     },
     "inputWidgets": {},
     "nuid": "c46c8bbe-20cc-42b0-bdf9-4bea8e39897c",
     "showTitle": true,
     "title": "Config and loading data from Azure Blob Storage"
    }
   },
   "outputs": [
    {
     "output_type": "display_data",
     "data": {
      "text/html": [
       "<style scoped>\n",
       "  .ansiout {\n",
       "    display: block;\n",
       "    unicode-bidi: embed;\n",
       "    white-space: pre-wrap;\n",
       "    word-wrap: break-word;\n",
       "    word-break: break-all;\n",
       "    font-family: \"Menlo\", \"Monaco\", \"Consolas\", \"Ubuntu Mono\", \"Source Code Pro\", monospace;\n",
       "    font-size: 13px;\n",
       "    color: #555;\n",
       "    margin-left: 4px;\n",
       "    line-height: 19px;\n",
       "  }\n",
       "</style>\n",
       "<div class=\"ansiout\"></div>"
      ]
     },
     "metadata": {
      "application/vnd.databricks.v1+output": {
       "addedWidgets": {},
       "arguments": {},
       "data": "<div class=\"ansiout\"></div>",
       "datasetInfos": [],
       "metadata": {},
       "removedWidgets": [],
       "type": "html"
      }
     },
     "output_type": "display_data"
    }
   ],
   "source": [
    "import pandas as pd\n",
    "import azure.storage.blob as azureblob\n",
    "import json\n",
    "import ast\n",
    "import numpy as np\n",
    "from sklearn.impute import KNNImputer\n",
    "from sklearn.preprocessing import StandardScaler\n",
    "from pyspark.sql.types import *\n",
    "\n",
    "import warnings\n",
    "warnings.filterwarnings('ignore')\n",
    "\n",
    "account_name = 'rohitk0810deprojects'\n",
    "account_key = 'EsE3G6/l/WlknvHfc6VsXvBRyI7MrrWFV4ysGmJ+c6NRSan1LjmNvZows88flYMA88dkBpKoNr0P+AStFglhaA=='\n",
    "container_name = 'blob'\n",
    "blob_name = 'movies_metadata.csv'\n",
    "blob_service = azureblob.BlockBlobService(account_name, account_key)\n",
    "\n",
    "blob_service.get_blob_to_path(container_name, blob_name, 'temp.csv')\n",
    "\n",
    "df = pd.read_csv('temp.csv')"
   ]
  },
  {
   "cell_type": "code",
   "execution_count": 0,
   "metadata": {
    "application/vnd.databricks.v1+cell": {
     "cellMetadata": {
      "byteLimit": 2048000,
      "rowLimit": 10000
     },
     "inputWidgets": {},
     "nuid": "16e4bee5-e2f8-4df2-97a5-0ee6b4037e08",
     "showTitle": true,
     "title": "Unpacking the dictionary columns"
    }
   },
   "outputs": [
    {
     "output_type": "display_data",
     "data": {
      "text/html": [
       "<style scoped>\n",
       "  .ansiout {\n",
       "    display: block;\n",
       "    unicode-bidi: embed;\n",
       "    white-space: pre-wrap;\n",
       "    word-wrap: break-word;\n",
       "    word-break: break-all;\n",
       "    font-family: \"Menlo\", \"Monaco\", \"Consolas\", \"Ubuntu Mono\", \"Source Code Pro\", monospace;\n",
       "    font-size: 13px;\n",
       "    color: #555;\n",
       "    margin-left: 4px;\n",
       "    line-height: 19px;\n",
       "  }\n",
       "</style>\n",
       "<div class=\"ansiout\"></div>"
      ]
     },
     "metadata": {
      "application/vnd.databricks.v1+output": {
       "addedWidgets": {},
       "arguments": {},
       "data": "<div class=\"ansiout\"></div>",
       "datasetInfos": [],
       "metadata": {},
       "removedWidgets": [],
       "type": "html"
      }
     },
     "output_type": "display_data"
    }
   ],
   "source": [
    "def safe_json_loads(s):\n",
    "    try:\n",
    "        if s.startswith('{') and s.endswith('}'):\n",
    "            return json.loads(s)\n",
    "        else:\n",
    "            return json.loads(s.replace(\"'\", '\"'))\n",
    "    except json.JSONDecodeError:\n",
    "        return []\n",
    "\n",
    "def safe_json_loads_2(s):\n",
    "    try:\n",
    "        return json.loads(s.replace(\"'\", '\"'))\n",
    "    except json.JSONDecodeError:\n",
    "        return {}\n",
    "\n",
    "def unpack_json(og_column_name, sub_column_names):\n",
    "    for sub_column_name in sub_column_names:\n",
    "        new_column_name = og_column_name + \"_\" + sub_column_name\n",
    "        df[new_column_name] = df[og_column_name].apply(lambda x: [i.get(sub_column_name, None) for i in safe_json_loads(str(x))])\n",
    "    return df\n",
    "\n",
    "df = unpack_json('spoken_languages', ['iso_639_1','name']) \n",
    "df = unpack_json('genres', ['id','name'])\n",
    "df = unpack_json('production_companies', ['id','name'])\n",
    "\n",
    "cols_to_drop = ['belongs_to_collection','production_companies','genres','homepage','overview','poster_path','production_countries','spoken_languages','tagline','genres_id','production_companies_id']\n",
    "df = df.drop(cols_to_drop, axis=1)"
   ]
  },
  {
   "cell_type": "code",
   "execution_count": 0,
   "metadata": {
    "application/vnd.databricks.v1+cell": {
     "cellMetadata": {
      "byteLimit": 2048000,
      "rowLimit": 10000
     },
     "inputWidgets": {},
     "nuid": "8b406619-7036-4ec0-86b9-b564b4ff585c",
     "showTitle": true,
     "title": "Impute the Missing Numerical columns"
    }
   },
   "outputs": [
    {
     "output_type": "display_data",
     "data": {
      "text/html": [
       "<style scoped>\n",
       "  .ansiout {\n",
       "    display: block;\n",
       "    unicode-bidi: embed;\n",
       "    white-space: pre-wrap;\n",
       "    word-wrap: break-word;\n",
       "    word-break: break-all;\n",
       "    font-family: \"Menlo\", \"Monaco\", \"Consolas\", \"Ubuntu Mono\", \"Source Code Pro\", monospace;\n",
       "    font-size: 13px;\n",
       "    color: #555;\n",
       "    margin-left: 4px;\n",
       "    line-height: 19px;\n",
       "  }\n",
       "</style>\n",
       "<div class=\"ansiout\"></div>"
      ]
     },
     "metadata": {
      "application/vnd.databricks.v1+output": {
       "addedWidgets": {},
       "arguments": {},
       "data": "<div class=\"ansiout\"></div>",
       "datasetInfos": [],
       "metadata": {},
       "removedWidgets": [],
       "type": "html"
      }
     },
     "output_type": "display_data"
    }
   ],
   "source": [
    "numeric_columns = ['budget', 'revenue', 'popularity', 'vote_average', 'vote_count', 'runtime']\n",
    "\n",
    "for col in numeric_columns:\n",
    "    df[col] = pd.to_numeric(df[col], errors='coerce')\n",
    "    \n",
    "df['budget'].replace(0, np.nan, inplace=True)\n",
    "df['revenue'].replace(0, np.nan, inplace=True)\n",
    "\n",
    "scaler = StandardScaler()\n",
    "scaled_features = scaler.fit_transform(df[['popularity', 'vote_average', 'vote_count', 'budget', 'revenue']])\n",
    "\n",
    "knn_imputer = KNNImputer(n_neighbors=5)\n",
    "imputed_data = knn_imputer.fit_transform(scaled_features)\n",
    "\n",
    "df[['popularity', 'vote_average', 'vote_count', 'budget', 'revenue']] = scaler.inverse_transform(imputed_data)\n",
    "\n",
    "df.fillna(0, inplace=True)\n",
    "\n",
    "df['spoken_languages_iso_639_1'] = df['spoken_languages_iso_639_1'].apply(lambda x: ','.join(x) if isinstance(x, list) else x)\n",
    "df['spoken_languages_name'] = df['spoken_languages_name'].apply(lambda x: ','.join(x) if isinstance(x, list) else x)\n",
    "df['production_companies_name'] = df['production_companies_name'].apply(lambda x: ','.join(x) if isinstance(x, list) else x)\n",
    "df['genres_name'] = df['genres_name'].apply(lambda x: ','.join(x) if isinstance(x, list) else x)"
   ]
  },
  {
   "cell_type": "code",
   "execution_count": 0,
   "metadata": {
    "application/vnd.databricks.v1+cell": {
     "cellMetadata": {
      "byteLimit": 2048000,
      "rowLimit": 10000
     },
     "inputWidgets": {},
     "nuid": "b47fc8fe-6c4d-4e1c-a7f6-9f37f064185d",
     "showTitle": true,
     "title": "Analysis #1 - Language Analysis"
    }
   },
   "outputs": [
    {
     "output_type": "display_data",
     "data": {
      "text/html": [
       "<style scoped>\n",
       "  .ansiout {\n",
       "    display: block;\n",
       "    unicode-bidi: embed;\n",
       "    white-space: pre-wrap;\n",
       "    word-wrap: break-word;\n",
       "    word-break: break-all;\n",
       "    font-family: \"Menlo\", \"Monaco\", \"Consolas\", \"Ubuntu Mono\", \"Source Code Pro\", monospace;\n",
       "    font-size: 13px;\n",
       "    color: #555;\n",
       "    margin-left: 4px;\n",
       "    line-height: 19px;\n",
       "  }\n",
       "</style>\n",
       "<div class=\"ansiout\"></div>"
      ]
     },
     "metadata": {
      "application/vnd.databricks.v1+output": {
       "addedWidgets": {},
       "arguments": {},
       "data": "<div class=\"ansiout\"></div>",
       "datasetInfos": [],
       "metadata": {},
       "removedWidgets": [],
       "type": "html"
      }
     },
     "output_type": "display_data"
    }
   ],
   "source": [
    "df2 = df[~df['original_language'].astype(str).str.match(r'^(\\d+\\.?\\d*|\\.\\d+)$') & df['original_language'].notna()]\n",
    "\n",
    "language_analysis = df2.groupby('original_language').agg(\n",
    "    number_of_movies=('id', 'count'),\n",
    "    average_budget=('budget', 'mean'),\n",
    "    average_revenue=('revenue', 'mean'),\n",
    "    average_popularity=('popularity', 'mean')).reset_index()"
   ]
  },
  {
   "cell_type": "code",
   "execution_count": 0,
   "metadata": {
    "application/vnd.databricks.v1+cell": {
     "cellMetadata": {
      "byteLimit": 2048000,
      "rowLimit": 10000
     },
     "inputWidgets": {},
     "nuid": "c71d5818-da3a-45c0-8b30-9502bc6aa4e8",
     "showTitle": true,
     "title": "Analysis #2 - Release Date Analysis"
    }
   },
   "outputs": [
    {
     "output_type": "display_data",
     "data": {
      "text/html": [
       "<style scoped>\n",
       "  .ansiout {\n",
       "    display: block;\n",
       "    unicode-bidi: embed;\n",
       "    white-space: pre-wrap;\n",
       "    word-wrap: break-word;\n",
       "    word-break: break-all;\n",
       "    font-family: \"Menlo\", \"Monaco\", \"Consolas\", \"Ubuntu Mono\", \"Source Code Pro\", monospace;\n",
       "    font-size: 13px;\n",
       "    color: #555;\n",
       "    margin-left: 4px;\n",
       "    line-height: 19px;\n",
       "  }\n",
       "</style>\n",
       "<div class=\"ansiout\"></div>"
      ]
     },
     "metadata": {
      "application/vnd.databricks.v1+output": {
       "addedWidgets": {},
       "arguments": {},
       "data": "<div class=\"ansiout\"></div>",
       "datasetInfos": [],
       "metadata": {},
       "removedWidgets": [],
       "type": "html"
      }
     },
     "output_type": "display_data"
    }
   ],
   "source": [
    "df['release_date'] = pd.to_datetime(df['release_date'], errors='coerce')\n",
    "\n",
    "df['release_year'] = df['release_date'].dt.year\n",
    "df['release_month'] = df['release_date'].dt.month\n",
    "\n",
    "df_after_1995 = df[df['release_year'] > 1995]\n",
    "\n",
    "movies_per_year_after_1995 = df_after_1995['release_year'].value_counts().sort_index()\n",
    "\n",
    "genres_per_year_after_1995 = df_after_1995.explode('genres_name').groupby(['release_year', 'genres_name']).size().unstack(fill_value=0)\n",
    "\n",
    "top_genres_per_year_after_1995 = genres_per_year_after_1995.apply(lambda x: list(x.nlargest(5).index), axis=1)\n",
    "\n",
    "top_genres_list_after_1995 = top_genres_per_year_after_1995.apply(lambda x: ', '.join(x))\n",
    "\n",
    "release_date_analysis_after_1995 = pd.DataFrame({\n",
    "    'Year': movies_per_year_after_1995.index,\n",
    "    'Number of Movies': movies_per_year_after_1995.values,\n",
    "    'Top 5 Genres': top_genres_list_after_1995.values\n",
    "})"
   ]
  },
  {
   "cell_type": "code",
   "execution_count": 0,
   "metadata": {
    "application/vnd.databricks.v1+cell": {
     "cellMetadata": {
      "byteLimit": 2048000,
      "rowLimit": 10000
     },
     "inputWidgets": {},
     "nuid": "581e3fd8-81e1-4e73-93ac-c088d2f94792",
     "showTitle": true,
     "title": "Analysis #3 - Genre Analysis"
    }
   },
   "outputs": [
    {
     "output_type": "display_data",
     "data": {
      "text/html": [
       "<style scoped>\n",
       "  .ansiout {\n",
       "    display: block;\n",
       "    unicode-bidi: embed;\n",
       "    white-space: pre-wrap;\n",
       "    word-wrap: break-word;\n",
       "    word-break: break-all;\n",
       "    font-family: \"Menlo\", \"Monaco\", \"Consolas\", \"Ubuntu Mono\", \"Source Code Pro\", monospace;\n",
       "    font-size: 13px;\n",
       "    color: #555;\n",
       "    margin-left: 4px;\n",
       "    line-height: 19px;\n",
       "  }\n",
       "</style>\n",
       "<div class=\"ansiout\"></div>"
      ]
     },
     "metadata": {
      "application/vnd.databricks.v1+output": {
       "addedWidgets": {},
       "arguments": {},
       "data": "<div class=\"ansiout\"></div>",
       "datasetInfos": [],
       "metadata": {},
       "removedWidgets": [],
       "type": "html"
      }
     },
     "output_type": "display_data"
    }
   ],
   "source": [
    "df_exploded_genres = df.explode('genres_name')\n",
    "\n",
    "genre_distribution = df_exploded_genres['genres_name'].value_counts()\n",
    "\n",
    "avg_budget_revenue_by_genre = df_exploded_genres.groupby('genres_name').agg(\n",
    "    average_budget=('budget', 'mean'),\n",
    "    average_revenue=('revenue', 'mean')).reset_index()\n",
    "\n",
    "avg_rating_popularity_by_genre = df_exploded_genres.groupby('genres_name').agg(\n",
    "    average_rating=('vote_average', 'mean'),\n",
    "    average_popularity=('popularity', 'mean')).reset_index()\n",
    "\n",
    "genre_analysis_table = pd.merge(\n",
    "    avg_budget_revenue_by_genre,\n",
    "    avg_rating_popularity_by_genre,\n",
    "    on='genres_name')\n",
    "genre_analysis_table['number_of_movies'] = genre_analysis_table['genres_name'].map(genre_distribution)"
   ]
  },
  {
   "cell_type": "code",
   "execution_count": 0,
   "metadata": {
    "application/vnd.databricks.v1+cell": {
     "cellMetadata": {
      "byteLimit": 2048000,
      "rowLimit": 10000
     },
     "inputWidgets": {},
     "nuid": "3b25f6a0-e586-4d45-a593-8b4cc4bf470b",
     "showTitle": false,
     "title": ""
    }
   },
   "outputs": [
    {
     "output_type": "display_data",
     "data": {
      "text/html": [
       "<style scoped>\n",
       "  .ansiout {\n",
       "    display: block;\n",
       "    unicode-bidi: embed;\n",
       "    white-space: pre-wrap;\n",
       "    word-wrap: break-word;\n",
       "    word-break: break-all;\n",
       "    font-family: \"Menlo\", \"Monaco\", \"Consolas\", \"Ubuntu Mono\", \"Source Code Pro\", monospace;\n",
       "    font-size: 13px;\n",
       "    color: #555;\n",
       "    margin-left: 4px;\n",
       "    line-height: 19px;\n",
       "  }\n",
       "</style>\n",
       "<div class=\"ansiout\"></div>"
      ]
     },
     "metadata": {
      "application/vnd.databricks.v1+output": {
       "addedWidgets": {},
       "arguments": {},
       "data": "<div class=\"ansiout\"></div>",
       "datasetInfos": [],
       "metadata": {},
       "removedWidgets": [],
       "type": "html"
      }
     },
     "output_type": "display_data"
    }
   ],
   "source": [
    "spark.conf.set(\n",
    "    \"fs.azure.account.key.moviedatanalytics.dfs.core.windows.net\",\"xs8eaOJ+uzl3/n8bz4au+ieUyllqksTZvuvLBa+ybkV3/DQjfPKN/75c/reepUbu/QMY2vM5HgUh+ASt7RUWaw==\")"
   ]
  },
  {
   "cell_type": "code",
   "execution_count": 0,
   "metadata": {
    "application/vnd.databricks.v1+cell": {
     "cellMetadata": {
      "byteLimit": 2048000,
      "rowLimit": 10000
     },
     "inputWidgets": {},
     "nuid": "6929c109-97fb-4b18-a6c5-870926bd85c6",
     "showTitle": true,
     "title": "Setting the schema and storing the Language Analysis table into Azure Data Lake Storage"
    }
   },
   "outputs": [
    {
     "output_type": "display_data",
     "data": {
      "text/html": [
       "<style scoped>\n",
       "  .ansiout {\n",
       "    display: block;\n",
       "    unicode-bidi: embed;\n",
       "    white-space: pre-wrap;\n",
       "    word-wrap: break-word;\n",
       "    word-break: break-all;\n",
       "    font-family: \"Menlo\", \"Monaco\", \"Consolas\", \"Ubuntu Mono\", \"Source Code Pro\", monospace;\n",
       "    font-size: 13px;\n",
       "    color: #555;\n",
       "    margin-left: 4px;\n",
       "    line-height: 19px;\n",
       "  }\n",
       "</style>\n",
       "<div class=\"ansiout\"></div>"
      ]
     },
     "metadata": {
      "application/vnd.databricks.v1+output": {
       "addedWidgets": {},
       "arguments": {},
       "data": "<div class=\"ansiout\"></div>",
       "datasetInfos": [],
       "metadata": {},
       "removedWidgets": [],
       "type": "html"
      }
     },
     "output_type": "display_data"
    }
   ],
   "source": [
    "lang_schema = StructType([\n",
    "    StructField(\"original_language\", StringType()),\n",
    "    StructField(\"number_of_movies\", LongType()),\n",
    "    StructField(\"average_budget\", DoubleType()),\n",
    "    StructField(\"average_revenue\", DoubleType()),\n",
    "    StructField(\"average_popularity\", DoubleType())\n",
    "])\n",
    "\n",
    "lang_analysis = spark.createDataFrame(language_analysis, schema=lang_schema)\n",
    "\n",
    "lang_analysis.write.mode(\"overwrite\").parquet(path='abfss://movieanalytics@moviedatanalytics.dfs.core.windows.net/Processed_Data/lang_analysis/')"
   ]
  },
  {
   "cell_type": "code",
   "execution_count": 0,
   "metadata": {
    "application/vnd.databricks.v1+cell": {
     "cellMetadata": {
      "byteLimit": 2048000,
      "rowLimit": 10000
     },
     "inputWidgets": {},
     "nuid": "2c09a434-d9d4-4543-8702-867c8c28d5e0",
     "showTitle": true,
     "title": "Setting the schema and storing the Release Date Analysis table into Azure Data Lake Storage"
    }
   },
   "outputs": [
    {
     "output_type": "display_data",
     "data": {
      "text/html": [
       "<style scoped>\n",
       "  .ansiout {\n",
       "    display: block;\n",
       "    unicode-bidi: embed;\n",
       "    white-space: pre-wrap;\n",
       "    word-wrap: break-word;\n",
       "    word-break: break-all;\n",
       "    font-family: \"Menlo\", \"Monaco\", \"Consolas\", \"Ubuntu Mono\", \"Source Code Pro\", monospace;\n",
       "    font-size: 13px;\n",
       "    color: #555;\n",
       "    margin-left: 4px;\n",
       "    line-height: 19px;\n",
       "  }\n",
       "</style>\n",
       "<div class=\"ansiout\"></div>"
      ]
     },
     "metadata": {
      "application/vnd.databricks.v1+output": {
       "addedWidgets": {},
       "arguments": {},
       "data": "<div class=\"ansiout\"></div>",
       "datasetInfos": [],
       "metadata": {},
       "removedWidgets": [],
       "type": "html"
      }
     },
     "output_type": "display_data"
    }
   ],
   "source": [
    "release_date_schema = StructType([\n",
    "    StructField(\"Year\", DoubleType()),\n",
    "    StructField(\"Number_of_Movies\", LongType()),\n",
    "    StructField(\"Top_5_Genres\", StringType())\n",
    "])\n",
    "\n",
    "release_analysis_post_1995 = spark.createDataFrame(release_date_analysis_after_1995, schema=release_date_schema)\n",
    "\n",
    "release_analysis_post_1995.write.mode(\"overwrite\").parquet(path='abfss://movieanalytics@moviedatanalytics.dfs.core.windows.net/Processed_Data/release_date_analysis/')"
   ]
  },
  {
   "cell_type": "code",
   "execution_count": 0,
   "metadata": {
    "application/vnd.databricks.v1+cell": {
     "cellMetadata": {
      "byteLimit": 2048000,
      "rowLimit": 10000
     },
     "inputWidgets": {},
     "nuid": "ed458c2b-f5c5-4ce4-93ab-df76a4aad4cd",
     "showTitle": true,
     "title": "Setting the schema and storing the Genre Analysis table into Azure Data Lake Storage"
    }
   },
   "outputs": [
    {
     "output_type": "display_data",
     "data": {
      "text/html": [
       "<style scoped>\n",
       "  .ansiout {\n",
       "    display: block;\n",
       "    unicode-bidi: embed;\n",
       "    white-space: pre-wrap;\n",
       "    word-wrap: break-word;\n",
       "    word-break: break-all;\n",
       "    font-family: \"Menlo\", \"Monaco\", \"Consolas\", \"Ubuntu Mono\", \"Source Code Pro\", monospace;\n",
       "    font-size: 13px;\n",
       "    color: #555;\n",
       "    margin-left: 4px;\n",
       "    line-height: 19px;\n",
       "  }\n",
       "</style>\n",
       "<div class=\"ansiout\"></div>"
      ]
     },
     "metadata": {
      "application/vnd.databricks.v1+output": {
       "addedWidgets": {},
       "arguments": {},
       "data": "<div class=\"ansiout\"></div>",
       "datasetInfos": [],
       "metadata": {},
       "removedWidgets": [],
       "type": "html"
      }
     },
     "output_type": "display_data"
    }
   ],
   "source": [
    "genre_schema = StructType([\n",
    "    StructField(\"genres_name\", StringType()),\n",
    "    StructField(\"average_budget\", DoubleType()),\n",
    "    StructField(\"average_revenue\", DoubleType()),\n",
    "    StructField(\"average_popularity\", DoubleType()),\n",
    "    StructField(\"number_of_movies\", LongType())\n",
    "])\n",
    "\n",
    "genre_analysis = spark.createDataFrame(genre_analysis_table, schema=genre_schema)\n",
    "\n",
    "genre_analysis.write.mode(\"overwrite\").parquet(path='abfss://movieanalytics@moviedatanalytics.dfs.core.windows.net/Processed_Data/genre_analysis/')"
   ]
  },
  {
   "cell_type": "code",
   "execution_count": 0,
   "metadata": {
    "application/vnd.databricks.v1+cell": {
     "cellMetadata": {},
     "inputWidgets": {},
     "nuid": "069925e1-2322-4f25-ad95-926c4c6c76e8",
     "showTitle": false,
     "title": ""
    }
   },
   "outputs": [],
   "source": []
  }
 ],
 "metadata": {
  "application/vnd.databricks.v1+notebook": {
   "dashboards": [],
   "language": "python",
   "notebookMetadata": {
    "pythonIndentUnit": 4
   },
   "notebookName": "Movie_Analysis_ETL",
   "widgets": {}
  }
 },
 "nbformat": 4,
 "nbformat_minor": 0
}
